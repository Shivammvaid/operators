{
 "cells": [
  {
   "cell_type": "code",
   "execution_count": 1,
   "id": "d08d1d8b-e0d2-4730-a628-907f6b3a3826",
   "metadata": {},
   "outputs": [
    {
     "ename": "SyntaxError",
     "evalue": "invalid syntax (157741791.py, line 1)",
     "output_type": "error",
     "traceback": [
      "\u001b[0;36m  Cell \u001b[0;32mIn[1], line 1\u001b[0;36m\u001b[0m\n\u001b[0;31m    and\u001b[0m\n\u001b[0m    ^\u001b[0m\n\u001b[0;31mSyntaxError\u001b[0m\u001b[0;31m:\u001b[0m invalid syntax\n"
     ]
    }
   ],
   "source": [
    "and \n",
    "or \n",
    "not\n",
    "\n",
    "# Logical operation"
   ]
  },
  {
   "cell_type": "code",
   "execution_count": 2,
   "id": "6bbe4cde-3908-4161-9201-e006e1ba8b66",
   "metadata": {},
   "outputs": [],
   "source": [
    "a=10\n",
    "b=20"
   ]
  },
  {
   "cell_type": "code",
   "execution_count": 6,
   "id": "31fe989e-971d-44aa-a358-30ed49199dc7",
   "metadata": {},
   "outputs": [
    {
     "data": {
      "text/plain": [
       "True"
      ]
     },
     "execution_count": 6,
     "metadata": {},
     "output_type": "execute_result"
    }
   ],
   "source": [
    "((a>6) and (b>7))"
   ]
  },
  {
   "cell_type": "code",
   "execution_count": 7,
   "id": "e27f7c5b-1caf-49b9-88f3-c5d9fda53dd8",
   "metadata": {},
   "outputs": [
    {
     "name": "stdout",
     "output_type": "stream",
     "text": [
      "False\n"
     ]
    }
   ],
   "source": [
    "print( True and False)"
   ]
  },
  {
   "cell_type": "code",
   "execution_count": 9,
   "id": "bdcee95a-d14a-48af-862f-835b5aaad4e8",
   "metadata": {},
   "outputs": [
    {
     "data": {
      "text/plain": [
       "True"
      ]
     },
     "execution_count": 9,
     "metadata": {},
     "output_type": "execute_result"
    }
   ],
   "source": [
    "((a>10) or (b>7))"
   ]
  },
  {
   "cell_type": "code",
   "execution_count": 10,
   "id": "2b281241-c577-4ba9-927e-199910c4bc1a",
   "metadata": {},
   "outputs": [
    {
     "name": "stdout",
     "output_type": "stream",
     "text": [
      "False\n"
     ]
    }
   ],
   "source": [
    "print( False or False)"
   ]
  },
  {
   "cell_type": "code",
   "execution_count": 5,
   "id": "1209685b-09bc-4694-9393-c6e8b590b2af",
   "metadata": {},
   "outputs": [
    {
     "ename": "SyntaxError",
     "evalue": "invalid syntax (696422961.py, line 1)",
     "output_type": "error",
     "traceback": [
      "\u001b[0;36m  Cell \u001b[0;32mIn[5], line 1\u001b[0;36m\u001b[0m\n\u001b[0;31m    1 1 1\u001b[0m\n\u001b[0m      ^\u001b[0m\n\u001b[0;31mSyntaxError\u001b[0m\u001b[0;31m:\u001b[0m invalid syntax\n"
     ]
    }
   ],
   "source": [
    "1 1 1\n",
    "1 0 0\n",
    "0 1 0\n",
    "0 0 0\n",
    "#and"
   ]
  },
  {
   "cell_type": "code",
   "execution_count": null,
   "id": "bf944bb5-7479-417e-bb54-de936275dff9",
   "metadata": {},
   "outputs": [],
   "source": []
  },
  {
   "cell_type": "code",
   "execution_count": null,
   "id": "bd9f1654-1c54-4daa-9436-63057253a6dc",
   "metadata": {},
   "outputs": [],
   "source": [
    "1 1 1\n",
    "1 0 1\n",
    "0 1 1\n",
    "0 0 0\n",
    "\n",
    "#or"
   ]
  },
  {
   "cell_type": "code",
   "execution_count": 11,
   "id": "335806fe-b235-4dd4-8940-a58574dbd5a0",
   "metadata": {},
   "outputs": [],
   "source": [
    "a= True"
   ]
  },
  {
   "cell_type": "code",
   "execution_count": 12,
   "id": "f1241f4d-19ca-4a4b-a10b-f317bf3efb63",
   "metadata": {},
   "outputs": [
    {
     "data": {
      "text/plain": [
       "False"
      ]
     },
     "execution_count": 12,
     "metadata": {},
     "output_type": "execute_result"
    }
   ],
   "source": [
    "not(a)"
   ]
  },
  {
   "cell_type": "code",
   "execution_count": 13,
   "id": "e49d29ff-8774-44e9-8d68-b0a22d353eb9",
   "metadata": {},
   "outputs": [],
   "source": [
    "a = False"
   ]
  },
  {
   "cell_type": "code",
   "execution_count": 14,
   "id": "019f6dd5-3c17-469b-8176-ad2f7234c811",
   "metadata": {},
   "outputs": [
    {
     "data": {
      "text/plain": [
       "True"
      ]
     },
     "execution_count": 14,
     "metadata": {},
     "output_type": "execute_result"
    }
   ],
   "source": [
    "not(a)"
   ]
  },
  {
   "cell_type": "code",
   "execution_count": null,
   "id": "9abdb31b-a6b2-4083-814c-1abab2d98f6b",
   "metadata": {},
   "outputs": [],
   "source": [
    "& --- and\n",
    "| --- or\n",
    "^--- xor\n",
    "~ --- negation\n",
    "\n",
    "<< --- left shift\n",
    ">> --- right shift\n"
   ]
  },
  {
   "cell_type": "code",
   "execution_count": 15,
   "id": "54f3940b-6554-47f9-bd3d-cb51fe4c66e8",
   "metadata": {},
   "outputs": [],
   "source": [
    "a=10\n",
    "b = 4"
   ]
  },
  {
   "cell_type": "code",
   "execution_count": 20,
   "id": "2339783f-64b6-4e10-85f2-bd3714767bb4",
   "metadata": {},
   "outputs": [
    {
     "data": {
      "text/plain": [
       "'0b1010'"
      ]
     },
     "execution_count": 20,
     "metadata": {},
     "output_type": "execute_result"
    }
   ],
   "source": [
    "bin(a)\n",
    "\n",
    "#bin = binary"
   ]
  },
  {
   "cell_type": "code",
   "execution_count": 17,
   "id": "67ba721f-de80-4bb1-b48d-c692d1ccf375",
   "metadata": {},
   "outputs": [
    {
     "data": {
      "text/plain": [
       "'0b100'"
      ]
     },
     "execution_count": 17,
     "metadata": {},
     "output_type": "execute_result"
    }
   ],
   "source": [
    "bin(b)"
   ]
  },
  {
   "cell_type": "code",
   "execution_count": null,
   "id": "be653869-b704-4558-b2d3-1d4ed1b11ffb",
   "metadata": {},
   "outputs": [],
   "source": [
    "8421\n",
    "0100\n"
   ]
  },
  {
   "cell_type": "code",
   "execution_count": 18,
   "id": "4c44353a-e603-4d9b-adee-8f6268041c63",
   "metadata": {},
   "outputs": [
    {
     "data": {
      "text/plain": [
       "0"
      ]
     },
     "execution_count": 18,
     "metadata": {},
     "output_type": "execute_result"
    }
   ],
   "source": [
    "a&b"
   ]
  },
  {
   "cell_type": "code",
   "execution_count": 19,
   "id": "39ae815c-b7c0-4b9c-be68-cc0137df0fea",
   "metadata": {},
   "outputs": [
    {
     "data": {
      "text/plain": [
       "14"
      ]
     },
     "execution_count": 19,
     "metadata": {},
     "output_type": "execute_result"
    }
   ],
   "source": [
    "a |  b\n"
   ]
  },
  {
   "cell_type": "code",
   "execution_count": 21,
   "id": "f49ef524-22bd-40cb-9bcc-75f4e52a85c2",
   "metadata": {},
   "outputs": [
    {
     "data": {
      "text/plain": [
       "14"
      ]
     },
     "execution_count": 21,
     "metadata": {},
     "output_type": "execute_result"
    }
   ],
   "source": [
    "a ^ b"
   ]
  },
  {
   "cell_type": "code",
   "execution_count": null,
   "id": "b0618bc1-af62-458f-9e84-ea8cf361bf52",
   "metadata": {},
   "outputs": [
    {
     "ename": "SyntaxError",
     "evalue": "invalid syntax (3254111907.py, line 1)",
     "output_type": "error",
     "traceback": [
      "\u001b[0;36m  Cell \u001b[0;32mIn[22], line 1\u001b[0;36m\u001b[0m\n\u001b[0;31m    1 1 0\u001b[0m\n\u001b[0m      ^\u001b[0m\n\u001b[0;31mSyntaxError\u001b[0m\u001b[0;31m:\u001b[0m invalid syntax\n"
     ]
    }
   ],
   "source": [
    "1 1 0\n",
    "1 0 1\n",
    "0 1 1\n",
    "0 0 0\n",
    "\n",
    "# xor"
   ]
  },
  {
   "cell_type": "code",
   "execution_count": 23,
   "id": "366db5a2-6686-4026-9afe-739d4f148469",
   "metadata": {},
   "outputs": [],
   "source": [
    "a = 10"
   ]
  },
  {
   "cell_type": "code",
   "execution_count": 24,
   "id": "81e35639-a393-416d-9ffe-944294a75d5a",
   "metadata": {},
   "outputs": [
    {
     "data": {
      "text/plain": [
       "-11"
      ]
     },
     "execution_count": 24,
     "metadata": {},
     "output_type": "execute_result"
    }
   ],
   "source": [
    "~a"
   ]
  },
  {
   "cell_type": "code",
   "execution_count": 25,
   "id": "e02f57b2-3517-415f-88cd-545cd251d7b8",
   "metadata": {},
   "outputs": [],
   "source": [
    "a = 8 "
   ]
  },
  {
   "cell_type": "code",
   "execution_count": 26,
   "id": "b1b4fc7d-fe8f-44ea-aeeb-09ed1fddffcf",
   "metadata": {},
   "outputs": [
    {
     "data": {
      "text/plain": [
       "-9"
      ]
     },
     "execution_count": 26,
     "metadata": {},
     "output_type": "execute_result"
    }
   ],
   "source": [
    "~ a"
   ]
  },
  {
   "cell_type": "code",
   "execution_count": 27,
   "id": "de2eeaa8-e145-4826-bd3b-d580a04145bf",
   "metadata": {},
   "outputs": [],
   "source": [
    "a= -12"
   ]
  },
  {
   "cell_type": "code",
   "execution_count": 28,
   "id": "9a7ccf38-55d9-4aa8-bf5a-e50c127a3311",
   "metadata": {},
   "outputs": [
    {
     "data": {
      "text/plain": [
       "11"
      ]
     },
     "execution_count": 28,
     "metadata": {},
     "output_type": "execute_result"
    }
   ],
   "source": [
    "~a"
   ]
  },
  {
   "cell_type": "code",
   "execution_count": 29,
   "id": "9cd4587a-d7e9-438f-8d51-19df3f43106c",
   "metadata": {},
   "outputs": [],
   "source": [
    "x = [1,2,3,4,5]"
   ]
  },
  {
   "cell_type": "code",
   "execution_count": 30,
   "id": "262b4b7b-128e-48c8-82f5-c650698f1873",
   "metadata": {},
   "outputs": [
    {
     "data": {
      "text/plain": [
       "True"
      ]
     },
     "execution_count": 30,
     "metadata": {},
     "output_type": "execute_result"
    }
   ],
   "source": [
    "2 in x"
   ]
  },
  {
   "cell_type": "code",
   "execution_count": 31,
   "id": "faccd975-e320-45ed-b755-7fa5d4d7c975",
   "metadata": {},
   "outputs": [
    {
     "data": {
      "text/plain": [
       "False"
      ]
     },
     "execution_count": 31,
     "metadata": {},
     "output_type": "execute_result"
    }
   ],
   "source": [
    "7 in x"
   ]
  },
  {
   "cell_type": "code",
   "execution_count": 32,
   "id": "2cc7ec90-2469-4f34-92c3-3ffe096a8ee0",
   "metadata": {},
   "outputs": [],
   "source": [
    "a=10"
   ]
  },
  {
   "cell_type": "code",
   "execution_count": 33,
   "id": "41b160c7-9ff4-4207-85c1-d75019dbfed0",
   "metadata": {},
   "outputs": [
    {
     "data": {
      "text/plain": [
       "20"
      ]
     },
     "execution_count": 33,
     "metadata": {},
     "output_type": "execute_result"
    }
   ],
   "source": [
    "a<<1"
   ]
  },
  {
   "cell_type": "code",
   "execution_count": 34,
   "id": "d20702e8-6f92-4cc9-bd22-7c56fc6d26ce",
   "metadata": {},
   "outputs": [
    {
     "data": {
      "text/plain": [
       "40"
      ]
     },
     "execution_count": 34,
     "metadata": {},
     "output_type": "execute_result"
    }
   ],
   "source": [
    "a << 2"
   ]
  },
  {
   "cell_type": "code",
   "execution_count": 35,
   "id": "7c627b62-323b-4f5a-bd09-a9053e4fdf0e",
   "metadata": {},
   "outputs": [
    {
     "data": {
      "text/plain": [
       "80"
      ]
     },
     "execution_count": 35,
     "metadata": {},
     "output_type": "execute_result"
    }
   ],
   "source": [
    "a<<3"
   ]
  },
  {
   "cell_type": "code",
   "execution_count": 36,
   "id": "f67c547d-e051-4bb2-8428-46c9533a0e06",
   "metadata": {},
   "outputs": [
    {
     "data": {
      "text/plain": [
       "5"
      ]
     },
     "execution_count": 36,
     "metadata": {},
     "output_type": "execute_result"
    }
   ],
   "source": [
    "a>>1"
   ]
  },
  {
   "cell_type": "code",
   "execution_count": null,
   "id": "3aea3011-1326-4890-9fab-a8b3d8049aba",
   "metadata": {},
   "outputs": [],
   "source": []
  }
 ],
 "metadata": {
  "kernelspec": {
   "display_name": "Python 3 (ipykernel)",
   "language": "python",
   "name": "python3"
  },
  "language_info": {
   "codemirror_mode": {
    "name": "ipython",
    "version": 3
   },
   "file_extension": ".py",
   "mimetype": "text/x-python",
   "name": "python",
   "nbconvert_exporter": "python",
   "pygments_lexer": "ipython3",
   "version": "3.10.8"
  }
 },
 "nbformat": 4,
 "nbformat_minor": 5
}
