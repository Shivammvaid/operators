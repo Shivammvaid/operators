{
 "cells": [
  {
   "cell_type": "code",
   "execution_count": 1,
   "id": "d43f94f6-98d5-4f23-8323-e600709f2a86",
   "metadata": {},
   "outputs": [],
   "source": [
    "x = 10"
   ]
  },
  {
   "cell_type": "code",
   "execution_count": 2,
   "id": "23c49823-a3c6-4dca-8571-ddee17feaff6",
   "metadata": {},
   "outputs": [],
   "source": [
    "x = 1.32"
   ]
  },
  {
   "cell_type": "code",
   "execution_count": 3,
   "id": "af054881-fcff-4ffa-a334-61847ac6f8a7",
   "metadata": {},
   "outputs": [],
   "source": [
    "x='shivam'"
   ]
  },
  {
   "cell_type": "code",
   "execution_count": 4,
   "id": "7a4c94ee-5215-47df-9934-401de3010e76",
   "metadata": {},
   "outputs": [],
   "source": [
    "x=['hi,4,5,6,3.4']"
   ]
  },
  {
   "cell_type": "code",
   "execution_count": 10,
   "id": "9a676ebd-b332-4cdf-96f6-1ec37dcf2f58",
   "metadata": {},
   "outputs": [],
   "source": [
    "y={'name':'shivam'}"
   ]
  },
  {
   "cell_type": "code",
   "execution_count": 11,
   "id": "c75dc532-b80b-4891-8d40-236949367354",
   "metadata": {},
   "outputs": [
    {
     "data": {
      "text/plain": [
       "dict"
      ]
     },
     "execution_count": 11,
     "metadata": {},
     "output_type": "execute_result"
    }
   ],
   "source": [
    "h = (1,2,3,4)\n",
    "type(y)"
   ]
  },
  {
   "cell_type": "code",
   "execution_count": 9,
   "id": "4315eff7-0231-4393-b392-00d3234f7e31",
   "metadata": {},
   "outputs": [
    {
     "name": "stdin",
     "output_type": "stream",
     "text": [
      " \"hi\"\n"
     ]
    }
   ],
   "source": [
    "x=input()\n"
   ]
  },
  {
   "cell_type": "code",
   "execution_count": 12,
   "id": "c7ebf8b9-abca-4be7-ad06-9e6f8b6622aa",
   "metadata": {},
   "outputs": [
    {
     "name": "stdin",
     "output_type": "stream",
     "text": [
      " 5\n"
     ]
    }
   ],
   "source": [
    "y=input()"
   ]
  },
  {
   "cell_type": "code",
   "execution_count": 13,
   "id": "ed36aa8c-85ba-43cb-9e1c-ae22d22d90c7",
   "metadata": {},
   "outputs": [
    {
     "name": "stdin",
     "output_type": "stream",
     "text": [
      "enetr your name imran\n"
     ]
    }
   ],
   "source": [
    "w=input(\"enetr your name\")"
   ]
  },
  {
   "cell_type": "code",
   "execution_count": 14,
   "id": "46013759-2f9e-4735-8ad2-39933d4efe17",
   "metadata": {},
   "outputs": [
    {
     "name": "stdout",
     "output_type": "stream",
     "text": [
      "hi\n"
     ]
    }
   ],
   "source": [
    "print(\"hi\")"
   ]
  },
  {
   "cell_type": "code",
   "execution_count": 15,
   "id": "3c0755c1-1c4a-46e9-84cb-438536094323",
   "metadata": {},
   "outputs": [
    {
     "name": "stdin",
     "output_type": "stream",
     "text": [
      "enter your name pwskills\n"
     ]
    },
    {
     "data": {
      "text/plain": [
       "'pwskills'"
      ]
     },
     "execution_count": 15,
     "metadata": {},
     "output_type": "execute_result"
    }
   ],
   "source": [
    "input(\"enter your name\")\n",
    "print(x)"
   ]
  },
  {
   "cell_type": "code",
   "execution_count": 17,
   "id": "81a18cc4-0a0d-4040-91d6-a9d7db2c88f8",
   "metadata": {},
   "outputs": [
    {
     "name": "stdin",
     "output_type": "stream",
     "text": [
      "enter your name 25\n"
     ]
    },
    {
     "name": "stdout",
     "output_type": "stream",
     "text": [
      "my age is 25\n"
     ]
    }
   ],
   "source": [
    "y=input(\"enter your name\")\n",
    "print(\"my age is \" + y)"
   ]
  },
  {
   "cell_type": "code",
   "execution_count": 18,
   "id": "c4888a2c-1537-4413-81ff-2efdaec32c60",
   "metadata": {},
   "outputs": [
    {
     "name": "stdout",
     "output_type": "stream",
     "text": [
      "40\n"
     ]
    }
   ],
   "source": [
    "x=10\n",
    "y=30\n",
    "print(x+y)"
   ]
  },
  {
   "cell_type": "code",
   "execution_count": 23,
   "id": "f70f8ce4-e7fd-46c3-8a28-5bdabe8661e2",
   "metadata": {
    "tags": []
   },
   "outputs": [
    {
     "name": "stdin",
     "output_type": "stream",
     "text": [
      "enter first num 8\n",
      "enter second number 8\n"
     ]
    },
    {
     "name": "stdout",
     "output_type": "stream",
     "text": [
      "16\n"
     ]
    }
   ],
   "source": [
    " b=int(input(\"enter first num\"))\n",
    "c=int(input(\"enter second number\"))\n",
    "print(b+c)\n"
   ]
  },
  {
   "cell_type": "code",
   "execution_count": 25,
   "id": "0cb0ed8a-a095-4df7-bea5-f0ed08f833a9",
   "metadata": {},
   "outputs": [
    {
     "name": "stdin",
     "output_type": "stream",
     "text": [
      "any number 1\n"
     ]
    }
   ],
   "source": [
    "x=int(input(\"any number\"))"
   ]
  },
  {
   "cell_type": "code",
   "execution_count": 26,
   "id": "3e436334-1aae-447d-8d4b-6a35b5850e34",
   "metadata": {},
   "outputs": [
    {
     "name": "stdout",
     "output_type": "stream",
     "text": [
      "pwskills\n"
     ]
    }
   ],
   "source": [
    "print(\"pwskills\")"
   ]
  },
  {
   "cell_type": "code",
   "execution_count": 28,
   "id": "0f8bcff8-f11b-492a-99af-c424cc0cb805",
   "metadata": {},
   "outputs": [
    {
     "name": "stdout",
     "output_type": "stream",
     "text": [
      "hi ok pwskills\n"
     ]
    }
   ],
   "source": [
    "x='hi'\n",
    "y=\"pwskills\"\n",
    "\n",
    "print(f\"{x} ok {y}\")"
   ]
  },
  {
   "cell_type": "code",
   "execution_count": 29,
   "id": "d6ba07b4-7755-4362-8f29-5a97f81bd1df",
   "metadata": {},
   "outputs": [
    {
     "name": "stdout",
     "output_type": "stream",
     "text": [
      "pw\n"
     ]
    }
   ],
   "source": [
    "print(\"pw\")"
   ]
  },
  {
   "cell_type": "code",
   "execution_count": 30,
   "id": "ca8a8c27-03c7-412c-b3c4-e536fa7b1afb",
   "metadata": {},
   "outputs": [
    {
     "name": "stdout",
     "output_type": "stream",
     "text": [
      "s\n"
     ]
    }
   ],
   "source": [
    "print(\"s\")"
   ]
  },
  {
   "cell_type": "code",
   "execution_count": 36,
   "id": "8ef044c4-763d-46b5-86e6-405716044182",
   "metadata": {},
   "outputs": [
    {
     "name": "stdout",
     "output_type": "stream",
     "text": [
      "skills and pw and ineouron \n"
     ]
    }
   ],
   "source": [
    "print(\"{1} and {0} and {2} \" .format(\"pw\",\"skills\",\"ineouron\"))"
   ]
  },
  {
   "cell_type": "code",
   "execution_count": 37,
   "id": "35656d72-6b9f-4a64-b9f7-574721b5c8a2",
   "metadata": {},
   "outputs": [
    {
     "name": "stdout",
     "output_type": "stream",
     "text": [
      "89074562\n",
      "hii!!\n",
      "$$howareyou??\n",
      "10*10 = 100\n",
      "(12>10) and True\n",
      "i am here to learn \"python\n"
     ]
    }
   ],
   "source": [
    "print(\"\"\"89074562\n",
    "hii!!\n",
    "$$howareyou??\n",
    "10*10 = 100\n",
    "(12>10) and True\n",
    "i am here to learn \"python\"\"\")"
   ]
  },
  {
   "cell_type": "code",
   "execution_count": 38,
   "id": "eefe5c05-0671-477a-92b3-3686c990181c",
   "metadata": {},
   "outputs": [
    {
     "name": "stdout",
     "output_type": "stream",
     "text": [
      "$\n",
      "$$\n",
      "$$$\n",
      "$$$$\n",
      "$$$$$\n",
      "\n"
     ]
    }
   ],
   "source": [
    "print(\"\"\"$\n",
    "$$\n",
    "$$$\n",
    "$$$$\n",
    "$$$$$\n",
    "\"\"\")"
   ]
  },
  {
   "cell_type": "code",
   "execution_count": 40,
   "id": "a460737f-d15d-40f2-9282-5e48aaca4e1f",
   "metadata": {},
   "outputs": [
    {
     "ename": "SyntaxError",
     "evalue": "invalid syntax (3469298655.py, line 2)",
     "output_type": "error",
     "traceback": [
      "\u001b[0;36m  Cell \u001b[0;32mIn[40], line 2\u001b[0;36m\u001b[0m\n\u001b[0;31m    y!!x\u001b[0m\n\u001b[0m     ^\u001b[0m\n\u001b[0;31mSyntaxError\u001b[0m\u001b[0;31m:\u001b[0m invalid syntax\n"
     ]
    }
   ],
   "source": [
    "x=input('enter the string')\n",
    "y!x\n",
    "z= \"!\" + x + \"!\"\n",
    "print(z)"
   ]
  },
  {
   "cell_type": "code",
   "execution_count": 41,
   "id": "19efc960-944f-457f-9801-42231668c635",
   "metadata": {},
   "outputs": [],
   "source": [
    "a=10\n",
    "b=20"
   ]
  },
  {
   "cell_type": "code",
   "execution_count": 42,
   "id": "ded7df61-1a14-4497-9731-8a01d2e00e4f",
   "metadata": {},
   "outputs": [
    {
     "data": {
      "text/plain": [
       "30"
      ]
     },
     "execution_count": 42,
     "metadata": {},
     "output_type": "execute_result"
    }
   ],
   "source": [
    "a+b"
   ]
  },
  {
   "cell_type": "code",
   "execution_count": 43,
   "id": "ed13c01f-4a36-4c2b-9f0d-84c5edfb09f6",
   "metadata": {},
   "outputs": [
    {
     "data": {
      "text/plain": [
       "10"
      ]
     },
     "execution_count": 43,
     "metadata": {},
     "output_type": "execute_result"
    }
   ],
   "source": [
    "b-a"
   ]
  },
  {
   "cell_type": "code",
   "execution_count": 44,
   "id": "cb987aa1-0201-47f6-9c5f-25e26acd970b",
   "metadata": {},
   "outputs": [
    {
     "data": {
      "text/plain": [
       "200"
      ]
     },
     "execution_count": 44,
     "metadata": {},
     "output_type": "execute_result"
    }
   ],
   "source": [
    "a*b"
   ]
  },
  {
   "cell_type": "code",
   "execution_count": 46,
   "id": "95d451be-0e56-451a-8bd1-3d91c95d331a",
   "metadata": {},
   "outputs": [
    {
     "data": {
      "text/plain": [
       "2.0"
      ]
     },
     "execution_count": 46,
     "metadata": {},
     "output_type": "execute_result"
    }
   ],
   "source": [
    "b/a"
   ]
  },
  {
   "cell_type": "code",
   "execution_count": 47,
   "id": "bff41b2b-44fd-428f-97b0-f6666e5d6936",
   "metadata": {},
   "outputs": [
    {
     "data": {
      "text/plain": [
       "0"
      ]
     },
     "execution_count": 47,
     "metadata": {},
     "output_type": "execute_result"
    }
   ],
   "source": [
    "b%a"
   ]
  },
  {
   "cell_type": "code",
   "execution_count": 48,
   "id": "f5dc4c35-0b24-481d-9fcd-ddebd6cc6909",
   "metadata": {},
   "outputs": [],
   "source": [
    "a=10"
   ]
  },
  {
   "cell_type": "code",
   "execution_count": 49,
   "id": "3fe2f328-09b3-410f-a582-75c1dca5e691",
   "metadata": {},
   "outputs": [],
   "source": [
    "b=10"
   ]
  },
  {
   "cell_type": "code",
   "execution_count": 50,
   "id": "9cb04ce7-8902-4695-b07c-58c9ce3e9392",
   "metadata": {},
   "outputs": [
    {
     "data": {
      "text/plain": [
       "True"
      ]
     },
     "execution_count": 50,
     "metadata": {},
     "output_type": "execute_result"
    }
   ],
   "source": [
    "a==b"
   ]
  },
  {
   "cell_type": "code",
   "execution_count": 52,
   "id": "d07a0312-7e36-48a5-ba69-15a6df54efd8",
   "metadata": {},
   "outputs": [
    {
     "data": {
      "text/plain": [
       "True"
      ]
     },
     "execution_count": 52,
     "metadata": {},
     "output_type": "execute_result"
    }
   ],
   "source": [
    "a is b #identity operator"
   ]
  },
  {
   "cell_type": "code",
   "execution_count": 53,
   "id": "59cf6afa-c00f-437e-aa6e-ee7c67d34586",
   "metadata": {},
   "outputs": [],
   "source": [
    "a=20"
   ]
  },
  {
   "cell_type": "code",
   "execution_count": 54,
   "id": "a293f37d-40ae-46db-942a-97ea8915a591",
   "metadata": {},
   "outputs": [],
   "source": [
    "b = 30"
   ]
  },
  {
   "cell_type": "code",
   "execution_count": 55,
   "id": "3ef30dc1-07b3-4e37-95d0-bc5169a259e1",
   "metadata": {},
   "outputs": [
    {
     "data": {
      "text/plain": [
       "False"
      ]
     },
     "execution_count": 55,
     "metadata": {},
     "output_type": "execute_result"
    }
   ],
   "source": [
    "a ==b"
   ]
  },
  {
   "cell_type": "code",
   "execution_count": 57,
   "id": "9c8e7c52-4e53-497e-9b92-4ab14563aee4",
   "metadata": {},
   "outputs": [
    {
     "data": {
      "text/plain": [
       "139665301308240"
      ]
     },
     "execution_count": 57,
     "metadata": {},
     "output_type": "execute_result"
    }
   ],
   "source": [
    "id(a)"
   ]
  },
  {
   "cell_type": "code",
   "execution_count": 58,
   "id": "c5dbf576-5774-46cc-979f-c3d4d4ce507e",
   "metadata": {},
   "outputs": [
    {
     "data": {
      "text/plain": [
       "139665301308560"
      ]
     },
     "execution_count": 58,
     "metadata": {},
     "output_type": "execute_result"
    }
   ],
   "source": [
    "id(b)"
   ]
  },
  {
   "cell_type": "code",
   "execution_count": 59,
   "id": "95452ec2-9a14-40fe-b31b-9d8e9e6d9bcf",
   "metadata": {},
   "outputs": [
    {
     "data": {
      "text/plain": [
       "False"
      ]
     },
     "execution_count": 59,
     "metadata": {},
     "output_type": "execute_result"
    }
   ],
   "source": [
    "a is b"
   ]
  },
  {
   "cell_type": "code",
   "execution_count": 60,
   "id": "b7a41208-0875-4345-b0a6-01012eeaff86",
   "metadata": {},
   "outputs": [
    {
     "data": {
      "text/plain": [
       "True"
      ]
     },
     "execution_count": 60,
     "metadata": {},
     "output_type": "execute_result"
    }
   ],
   "source": [
    " a!=b"
   ]
  },
  {
   "cell_type": "code",
   "execution_count": 61,
   "id": "2fe5ef98-a48d-4dbd-afbb-e17b2f2694e5",
   "metadata": {},
   "outputs": [],
   "source": [
    "a= [1,2,3]"
   ]
  },
  {
   "cell_type": "code",
   "execution_count": 62,
   "id": "fedef636-a628-4d39-aeb2-4d6075608d74",
   "metadata": {},
   "outputs": [],
   "source": [
    "b=[1,2,3]"
   ]
  },
  {
   "cell_type": "code",
   "execution_count": 63,
   "id": "99d80870-0364-4089-9d4d-76689c14a1fc",
   "metadata": {},
   "outputs": [
    {
     "data": {
      "text/plain": [
       "True"
      ]
     },
     "execution_count": 63,
     "metadata": {},
     "output_type": "execute_result"
    }
   ],
   "source": [
    "a==b"
   ]
  },
  {
   "cell_type": "code",
   "execution_count": 64,
   "id": "7c1ab543-7cac-4247-8846-ff9761d6d55f",
   "metadata": {},
   "outputs": [
    {
     "data": {
      "text/plain": [
       "False"
      ]
     },
     "execution_count": 64,
     "metadata": {},
     "output_type": "execute_result"
    }
   ],
   "source": [
    "a is b"
   ]
  },
  {
   "cell_type": "code",
   "execution_count": 65,
   "id": "fdd674aa-d39d-496a-b5a9-fff65f3ac4e8",
   "metadata": {},
   "outputs": [
    {
     "data": {
      "text/plain": [
       "139665225589632"
      ]
     },
     "execution_count": 65,
     "metadata": {},
     "output_type": "execute_result"
    }
   ],
   "source": [
    "id(a)"
   ]
  },
  {
   "cell_type": "code",
   "execution_count": 66,
   "id": "eda50671-4e93-4c76-85f0-cb13968818ae",
   "metadata": {},
   "outputs": [
    {
     "data": {
      "text/plain": [
       "139665225817408"
      ]
     },
     "execution_count": 66,
     "metadata": {},
     "output_type": "execute_result"
    }
   ],
   "source": [
    "id(b)"
   ]
  },
  {
   "cell_type": "code",
   "execution_count": 67,
   "id": "99cefbe8-5435-4c48-93af-9ffc2fb47376",
   "metadata": {},
   "outputs": [],
   "source": [
    "a=[1,2,3]"
   ]
  },
  {
   "cell_type": "code",
   "execution_count": 68,
   "id": "fc158eb3-4628-4e6c-81e9-c076d3a0c585",
   "metadata": {},
   "outputs": [],
   "source": [
    "b=a"
   ]
  },
  {
   "cell_type": "code",
   "execution_count": 69,
   "id": "8b62d832-ec57-49ce-9ce2-ddcd20b6e47d",
   "metadata": {},
   "outputs": [
    {
     "data": {
      "text/plain": [
       "True"
      ]
     },
     "execution_count": 69,
     "metadata": {},
     "output_type": "execute_result"
    }
   ],
   "source": [
    "a is b"
   ]
  },
  {
   "cell_type": "code",
   "execution_count": 70,
   "id": "28110ea9-de51-4c46-aa13-915b0e01a296",
   "metadata": {},
   "outputs": [
    {
     "data": {
      "text/plain": [
       "True"
      ]
     },
     "execution_count": 70,
     "metadata": {},
     "output_type": "execute_result"
    }
   ],
   "source": [
    "a==b"
   ]
  },
  {
   "cell_type": "code",
   "execution_count": null,
   "id": "bb8b5c90-24b2-4239-bb9f-4d7bfe952120",
   "metadata": {},
   "outputs": [],
   "source": []
  },
  {
   "cell_type": "code",
   "execution_count": 73,
   "id": "52609562-0bc1-4c0b-b093-594f59336e5a",
   "metadata": {},
   "outputs": [
    {
     "name": "stdin",
     "output_type": "stream",
     "text": [
      "enter an integer: 10\n"
     ]
    },
    {
     "name": "stdout",
     "output_type": "stream",
     "text": [
      "5003154509899970\n"
     ]
    }
   ],
   "source": [
    "x= int(input(\"enter an integer:\"))\n",
    "y = 3**35//x\n",
    "print(y)"
   ]
  },
  {
   "cell_type": "code",
   "execution_count": 72,
   "id": "f904dbf4-d936-4c16-b56d-9f68ed14ce4a",
   "metadata": {},
   "outputs": [
    {
     "data": {
      "text/plain": [
       "4"
      ]
     },
     "execution_count": 72,
     "metadata": {},
     "output_type": "execute_result"
    }
   ],
   "source": [
    "2**2"
   ]
  },
  {
   "cell_type": "code",
   "execution_count": 74,
   "id": "bf50f6fc-abcc-47e8-9f14-85e032209d58",
   "metadata": {},
   "outputs": [],
   "source": [
    "a=10"
   ]
  },
  {
   "cell_type": "code",
   "execution_count": 75,
   "id": "bb0a38bf-a972-49c8-8af1-ced42e1d4dcb",
   "metadata": {},
   "outputs": [],
   "source": [
    "b=20"
   ]
  },
  {
   "cell_type": "code",
   "execution_count": 76,
   "id": "e2398754-d57e-474b-a735-073859de9930",
   "metadata": {},
   "outputs": [
    {
     "data": {
      "text/plain": [
       "False"
      ]
     },
     "execution_count": 76,
     "metadata": {},
     "output_type": "execute_result"
    }
   ],
   "source": [
    "a>b"
   ]
  },
  {
   "cell_type": "code",
   "execution_count": 77,
   "id": "de411ef6-e499-4359-a9dc-3d974cdeeff0",
   "metadata": {},
   "outputs": [
    {
     "data": {
      "text/plain": [
       "True"
      ]
     },
     "execution_count": 77,
     "metadata": {},
     "output_type": "execute_result"
    }
   ],
   "source": [
    "a<b"
   ]
  },
  {
   "cell_type": "code",
   "execution_count": 78,
   "id": "6f8e4a33-2e58-4e8e-8b93-bc9df69f85c7",
   "metadata": {},
   "outputs": [
    {
     "data": {
      "text/plain": [
       "2"
      ]
     },
     "execution_count": 78,
     "metadata": {},
     "output_type": "execute_result"
    }
   ],
   "source": [
    "5%3"
   ]
  },
  {
   "cell_type": "code",
   "execution_count": 79,
   "id": "798eda0b-7e78-4020-bdf9-9a62f6d6550f",
   "metadata": {},
   "outputs": [
    {
     "data": {
      "text/plain": [
       "2"
      ]
     },
     "execution_count": 79,
     "metadata": {},
     "output_type": "execute_result"
    }
   ],
   "source": [
    "5%3"
   ]
  },
  {
   "cell_type": "code",
   "execution_count": 80,
   "id": "c24cd4ec-8696-41c5-b76d-976616c2c0cc",
   "metadata": {},
   "outputs": [],
   "source": [
    "a = 10"
   ]
  },
  {
   "cell_type": "code",
   "execution_count": 82,
   "id": "dd4d3a12-2b51-4116-961d-bbd3b749da4d",
   "metadata": {},
   "outputs": [],
   "source": [
    "b=4"
   ]
  },
  {
   "cell_type": "code",
   "execution_count": 83,
   "id": "c9ebf84c-e115-45cf-922c-aff373a9952d",
   "metadata": {},
   "outputs": [
    {
     "data": {
      "text/plain": [
       "'0b1010'"
      ]
     },
     "execution_count": 83,
     "metadata": {},
     "output_type": "execute_result"
    }
   ],
   "source": [
    "bin(a)"
   ]
  },
  {
   "cell_type": "code",
   "execution_count": 84,
   "id": "a134c196-6910-4237-b77e-f5bab7821081",
   "metadata": {},
   "outputs": [
    {
     "data": {
      "text/plain": [
       "'0b100'"
      ]
     },
     "execution_count": 84,
     "metadata": {},
     "output_type": "execute_result"
    }
   ],
   "source": [
    "bin(b)"
   ]
  },
  {
   "cell_type": "code",
   "execution_count": 85,
   "id": "0e65c617-daa8-4d5a-86ce-f093f100110b",
   "metadata": {},
   "outputs": [
    {
     "data": {
      "text/plain": [
       "0"
      ]
     },
     "execution_count": 85,
     "metadata": {},
     "output_type": "execute_result"
    }
   ],
   "source": [
    "a&b"
   ]
  },
  {
   "cell_type": "code",
   "execution_count": 86,
   "id": "246b3771-2a75-49fa-8821-25607d06395a",
   "metadata": {},
   "outputs": [
    {
     "data": {
      "text/plain": [
       "14"
      ]
     },
     "execution_count": 86,
     "metadata": {},
     "output_type": "execute_result"
    }
   ],
   "source": [
    "a | b\n",
    "# or"
   ]
  },
  {
   "cell_type": "code",
   "execution_count": 87,
   "id": "3694148e-f801-4716-a494-82b76f77543d",
   "metadata": {},
   "outputs": [
    {
     "data": {
      "text/plain": [
       "4"
      ]
     },
     "execution_count": 87,
     "metadata": {},
     "output_type": "execute_result"
    }
   ],
   "source": [
    " a and b\n",
    "    "
   ]
  },
  {
   "cell_type": "code",
   "execution_count": 88,
   "id": "e84c257f-0f0f-4dcf-917c-b0e1689582e5",
   "metadata": {},
   "outputs": [
    {
     "data": {
      "text/plain": [
       "10"
      ]
     },
     "execution_count": 88,
     "metadata": {},
     "output_type": "execute_result"
    }
   ],
   "source": [
    "a"
   ]
  },
  {
   "cell_type": "code",
   "execution_count": 89,
   "id": "1be493c2-c398-4b18-b13a-6039c972170f",
   "metadata": {},
   "outputs": [
    {
     "data": {
      "text/plain": [
       "-11"
      ]
     },
     "execution_count": 89,
     "metadata": {},
     "output_type": "execute_result"
    }
   ],
   "source": [
    "~a"
   ]
  },
  {
   "cell_type": "code",
   "execution_count": 90,
   "id": "5d79ba3e-8dc6-4b45-a679-2106e0ec8570",
   "metadata": {},
   "outputs": [
    {
     "data": {
      "text/plain": [
       "14"
      ]
     },
     "execution_count": 90,
     "metadata": {},
     "output_type": "execute_result"
    }
   ],
   "source": [
    "a ^ b"
   ]
  },
  {
   "cell_type": "code",
   "execution_count": 91,
   "id": "be709fc6-42e3-43e2-8dd3-4dffa8311c34",
   "metadata": {},
   "outputs": [],
   "source": [
    "a = 10"
   ]
  },
  {
   "cell_type": "code",
   "execution_count": 92,
   "id": "cbdf77f5-26d6-4c7e-b583-5a5d6b44d958",
   "metadata": {},
   "outputs": [],
   "source": [
    "b = 4"
   ]
  },
  {
   "cell_type": "code",
   "execution_count": 93,
   "id": "04c55455-f2ee-4858-8ebc-8f94cfb8f925",
   "metadata": {},
   "outputs": [
    {
     "data": {
      "text/plain": [
       "'0b100'"
      ]
     },
     "execution_count": 93,
     "metadata": {},
     "output_type": "execute_result"
    }
   ],
   "source": [
    "bin(b)"
   ]
  },
  {
   "cell_type": "code",
   "execution_count": 94,
   "id": "d9f4df24-68c5-4802-bc97-f7fcb1ca4982",
   "metadata": {},
   "outputs": [
    {
     "data": {
      "text/plain": [
       "14"
      ]
     },
     "execution_count": 94,
     "metadata": {},
     "output_type": "execute_result"
    }
   ],
   "source": [
    "a^b"
   ]
  },
  {
   "cell_type": "code",
   "execution_count": 95,
   "id": "72159362-72d9-4a42-80b0-85b779c0d11a",
   "metadata": {},
   "outputs": [
    {
     "ename": "SyntaxError",
     "evalue": "leading zeros in decimal integer literals are not permitted; use an 0o prefix for octal integers (2267393169.py, line 2)",
     "output_type": "error",
     "traceback": [
      "\u001b[0;36m  Cell \u001b[0;32mIn[95], line 2\u001b[0;36m\u001b[0m\n\u001b[0;31m    0100\u001b[0m\n\u001b[0m    ^\u001b[0m\n\u001b[0;31mSyntaxError\u001b[0m\u001b[0;31m:\u001b[0m leading zeros in decimal integer literals are not permitted; use an 0o prefix for octal integers\n"
     ]
    }
   ],
   "source": [
    "1010\n",
    "0100\n",
    "-----\n",
    "1110"
   ]
  },
  {
   "cell_type": "code",
   "execution_count": 96,
   "id": "07478a46-2421-4104-8c6f-248413e1617d",
   "metadata": {},
   "outputs": [],
   "source": [
    "a = 10"
   ]
  },
  {
   "cell_type": "code",
   "execution_count": 97,
   "id": "769a08be-1c70-4b16-8d72-3b61873d9c3d",
   "metadata": {},
   "outputs": [
    {
     "data": {
      "text/plain": [
       "5"
      ]
     },
     "execution_count": 97,
     "metadata": {},
     "output_type": "execute_result"
    }
   ],
   "source": [
    "a>>1"
   ]
  },
  {
   "cell_type": "code",
   "execution_count": 98,
   "id": "054339ce-e83b-4e82-b8a5-29f8554bebf4",
   "metadata": {},
   "outputs": [],
   "source": [
    " a = 10"
   ]
  },
  {
   "cell_type": "code",
   "execution_count": 99,
   "id": "a9766625-14a2-4db3-8eae-a0cd1e579628",
   "metadata": {},
   "outputs": [
    {
     "data": {
      "text/plain": [
       "5"
      ]
     },
     "execution_count": 99,
     "metadata": {},
     "output_type": "execute_result"
    }
   ],
   "source": [
    "a>>1"
   ]
  },
  {
   "cell_type": "code",
   "execution_count": 100,
   "id": "8bfd0421-70be-4eb9-813f-0df35c16d480",
   "metadata": {},
   "outputs": [
    {
     "data": {
      "text/plain": [
       "20"
      ]
     },
     "execution_count": 100,
     "metadata": {},
     "output_type": "execute_result"
    }
   ],
   "source": [
    "a<<1"
   ]
  },
  {
   "cell_type": "code",
   "execution_count": 102,
   "id": "f9a9efe4-c863-4002-862f-bc3a02c8e16f",
   "metadata": {},
   "outputs": [],
   "source": [
    "a = 10"
   ]
  },
  {
   "cell_type": "code",
   "execution_count": 104,
   "id": "914cd3a5-6bae-44ac-bc93-0bd066b5bea9",
   "metadata": {},
   "outputs": [
    {
     "data": {
      "text/plain": [
       "-11"
      ]
     },
     "execution_count": 104,
     "metadata": {},
     "output_type": "execute_result"
    }
   ],
   "source": [
    "~a"
   ]
  },
  {
   "cell_type": "code",
   "execution_count": 105,
   "id": "093cc42a-75c6-4823-8544-365337762c0e",
   "metadata": {},
   "outputs": [],
   "source": [
    " a = a+1"
   ]
  },
  {
   "cell_type": "code",
   "execution_count": 106,
   "id": "266190ec-182c-4748-af27-6ad78760c201",
   "metadata": {},
   "outputs": [
    {
     "data": {
      "text/plain": [
       "11"
      ]
     },
     "execution_count": 106,
     "metadata": {},
     "output_type": "execute_result"
    }
   ],
   "source": [
    "a"
   ]
  },
  {
   "cell_type": "code",
   "execution_count": 110,
   "id": "216ccf9e-f382-486b-8afa-0d911a79b849",
   "metadata": {},
   "outputs": [],
   "source": [
    "a+=3"
   ]
  },
  {
   "cell_type": "code",
   "execution_count": 109,
   "id": "c883e5a3-56c9-4379-a7fe-74b01ba4fb9f",
   "metadata": {},
   "outputs": [],
   "source": [
    "a = 10"
   ]
  },
  {
   "cell_type": "code",
   "execution_count": 111,
   "id": "7672a6e9-35dc-4c2a-b5a3-766cf176eaf5",
   "metadata": {},
   "outputs": [
    {
     "data": {
      "text/plain": [
       "13"
      ]
     },
     "execution_count": 111,
     "metadata": {},
     "output_type": "execute_result"
    }
   ],
   "source": [
    "    a"
   ]
  },
  {
   "cell_type": "code",
   "execution_count": 112,
   "id": "0cfd6f4e-a391-4f2e-a2d9-b3f3a0325a81",
   "metadata": {},
   "outputs": [],
   "source": [
    "a = a +3"
   ]
  },
  {
   "cell_type": "code",
   "execution_count": null,
   "id": "4bad5e29-7984-4994-a72d-6ff57a3acd53",
   "metadata": {},
   "outputs": [],
   "source": []
  }
 ],
 "metadata": {
  "kernelspec": {
   "display_name": "Python 3 (ipykernel)",
   "language": "python",
   "name": "python3"
  },
  "language_info": {
   "codemirror_mode": {
    "name": "ipython",
    "version": 3
   },
   "file_extension": ".py",
   "mimetype": "text/x-python",
   "name": "python",
   "nbconvert_exporter": "python",
   "pygments_lexer": "ipython3",
   "version": "3.10.8"
  }
 },
 "nbformat": 4,
 "nbformat_minor": 5
}
